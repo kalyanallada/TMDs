{
 "cells": [
  {
   "cell_type": "code",
   "execution_count": 2,
   "metadata": {
    "collapsed": false
   },
   "outputs": [],
   "source": [
    "import sys,os\n",
    "import pylab as py\n",
    "import matplotlib as mpl\n",
    "from matplotlib import pyplot as plt\n",
    "import numpy as np\n",
    "from scipy.optimize import leastsq,minimize,root\n",
    "from scipy.integrate import quad,fixed_quad, simps, dblquad\n",
    "import pandas as pd\n",
    "from tools import save,load,tex,ProgressBar,com,fill_between\n",
    "from  matplotlib import rc\n",
    "import matplotlib.gridspec as gridspec\n",
    "%matplotlib inline  \n",
    "%config InlineBacend.figure_format = 'retina' \n",
    "rc('font',**{'family':'sans-serif','sans-serif':['Times-Roman']})\n",
    "rc('text',usetex=True)\n",
    "#import lhapdf\n",
    "from numpy import linalg as LA\n",
    "from scipy.interpolate import interp1d\n",
    "import pandas as pd\n",
    "tex = lambda x: r'$\\mathrm{'+x+'}$'"
   ]
  },
  {
   "cell_type": "code",
   "execution_count": 3,
   "metadata": {
    "collapsed": true
   },
   "outputs": [],
   "source": [
    "def get_data(fname):  \n",
    "  F=open(fname)\n",
    "  L=F.readlines()\n",
    "  F.close()\n",
    "  L=[l.strip() for l in L]\n",
    "  L=[l for l in L if l!='']\n",
    "  L=[[float(x) for x in l.split()] for l in L]\n",
    "  L2=[]\n",
    "  for l in L:\n",
    "    chi2=l[1]\n",
    "    w=l[2]\n",
    "    du=l[3]\n",
    "    dd=l[4]\n",
    "    duEX=l[5]\n",
    "    ddEX=l[6]\n",
    "    data=l[7:]\n",
    "    N=len(data)\n",
    "    x =[data[3*i] for i in range(N/3) ]\n",
    "    Hu=[data[3*i+1] for i in range(N/3) ]\n",
    "    Hd=[data[3*i+2] for i in range(N/3) ]\n",
    "    #if Hd[10]==0: continue\n",
    "    L2.append([chi2,w,du,dd,duEX,ddEX,x,Hu,Hd])\n",
    "  return pd.DataFrame(L2,columns=['chi2','w','du','dd','duEX','ddEX','x','Hu','Hd'])\n",
    "\n",
    "\n",
    "#j, ChiSQ[j], Weight[j], deltaU_Cal[j], deltaD_Cal[j], deltaU_EX_Cal[j], deltaD_EX_Cal[j], xB[0,j],Hu[0,j], Hd[0,j], xB[1,j], Hu[1,j], Hd[1,j],...,(from 0 to 299),...,xB[299,j], Hu[299,j], Hd[299,j]"
   ]
  },
  {
   "cell_type": "code",
   "execution_count": 4,
   "metadata": {
    "collapsed": true
   },
   "outputs": [],
   "source": [
    "data1=get_data('scale_cov_1/f1_weight_clas_p_pim_1.dat')\n",
    "data100=get_data('scale_cov_100_new/f100_weight_clas_p_pim_1.dat')"
   ]
  },
  {
   "cell_type": "code",
   "execution_count": 8,
   "metadata": {
    "collapsed": false
   },
   "outputs": [
    {
     "data": {
      "text/plain": [
       "(array([ 33.19176714,   9.76228445,   5.85737067,   5.85737067,\n",
       "          3.90491378,   3.90491378,   3.90491378,   3.90491378,\n",
       "          3.90491378,   3.90491378,   1.95245689,   3.90491378,\n",
       "          1.95245689,   3.90491378,   1.95245689,   3.90491378,\n",
       "          3.90491378,   1.95245689,   3.90491378,   1.95245689,\n",
       "          3.90491378,   1.95245689,   1.95245689,   1.95245689,\n",
       "          3.90491378,   3.90491378,   1.95245689,   3.90491378,\n",
       "          3.90491378,   1.95245689,   3.90491378,   3.90491378,\n",
       "          1.95245689,   3.90491378,   3.90491378,   3.90491378,\n",
       "          5.85737067,   5.85737067,   7.80982756,  17.57211202]),\n",
       " array([ -8.03110000e-08,   5.12167170e-03,   1.02434237e-02,\n",
       "          1.53651757e-02,   2.04869277e-02,   2.56086797e-02,\n",
       "          3.07304317e-02,   3.58521837e-02,   4.09739358e-02,\n",
       "          4.60956878e-02,   5.12174398e-02,   5.63391918e-02,\n",
       "          6.14609438e-02,   6.65826958e-02,   7.17044478e-02,\n",
       "          7.68261998e-02,   8.19479518e-02,   8.70697038e-02,\n",
       "          9.21914558e-02,   9.73132078e-02,   1.02434960e-01,\n",
       "          1.07556712e-01,   1.12678464e-01,   1.17800216e-01,\n",
       "          1.22921968e-01,   1.28043720e-01,   1.33165472e-01,\n",
       "          1.38287224e-01,   1.43408976e-01,   1.48530728e-01,\n",
       "          1.53652480e-01,   1.58774232e-01,   1.63895984e-01,\n",
       "          1.69017736e-01,   1.74139488e-01,   1.79261240e-01,\n",
       "          1.84382992e-01,   1.89504744e-01,   1.94626496e-01,\n",
       "          1.99748248e-01,   2.04870000e-01]),\n",
       " <a list of 1 Patch objects>)"
      ]
     },
     "execution_count": 8,
     "metadata": {},
     "output_type": "execute_result"
    },
    {
     "data": {
      "image/png": "[encoded data removed]",
      "text/plain": [
       "<matplotlib.figure.Figure at 0x7ff41f610190>"
      ]
     },
     "metadata": {},
     "output_type": "display_data"
    }
   ],
   "source": [
    "nrows,ncols=1,4\n",
    "py.figure(figsize=(ncols*5,nrows*5))\n",
    "\n",
    "ax=py.subplot(nrows,ncols,1)\n",
    "ax.hist(data100['chi2'],range=(0,5),bins=100,histtype='stepfilled');\n",
    "\n",
    "ax=plt.subplot(nrows,ncols,2)\n",
    "ax.hist(data1['du'],histtype='stepfilled',bins=40,normed=1,facecolor='Yellow',alpha=0.2);\n",
    "ax.hist(data100['du'],histtype='stepfilled',bins=40,normed=1,facecolor='b',alpha=0.2);\n",
    "ax.hist(data100['du'],histtype='stepfilled',weights=data100['w'],bins=40,normed=1,facecolor='r',alpha=0.2)\n",
    "ax.set_xlim(0.35,0.45)\n",
    "\n",
    "ax=plt.subplot(nrows,ncols,3)\n",
    "ax.hist(data1['dd'],histtype='stepfilled',bins=40,normed=1,facecolor='Yellow',alpha=0.2);\n",
    "ax.hist(data100['dd'],histtype='stepfilled',bins=40,normed=1,facecolor='b',alpha=0.2);\n",
    "ax.hist(data100['dd'],histtype='stepfilled',weights=data100['w'],bins=40,normed=1,facecolor='r',alpha=0.2)\n",
    "ax.set_xlim(-0.25,-0.18)\n",
    "\n",
    "ax=plt.subplot(nrows,ncols,3)\n",
    "ax.hist(data1['dd'],histtype='stepfilled',bins=40,normed=1,facecolor='Yellow',alpha=0.2);\n",
    "ax.hist(data100['dd'],histtype='stepfilled',bins=40,normed=1,facecolor='b',alpha=0.2);\n",
    "ax.hist(data100['dd'],histtype='stepfilled',weights=data100['w'],bins=40,normed=1,facecolor='r',alpha=0.2)\n",
    "ax.set_xlim(-0.25,-0.18)\n",
    "\n",
    "ax=plt.subplot(nrows,ncols,4)\n",
    "ax.hist(data100['Hu'][10],histtype='stepfilled',bins=40,normed=1,facecolor='Yellow',alpha=0.2);\n",
    "#ax.hist(data100['Hu'][100],histtype='stepfilled',bins=40,normed=1,facecolor='b',alpha=0.2);\n",
    "#ax.hist(data100['Hu'][100],histtype='stepfilled',weights=data['w'],bins=40,normed=1,facecolor='r',alpha=0.2)\n",
    "#ax.set_xlim(-0.25,-0.18)"
   ]
  },
  {
   "cell_type": "code",
   "execution_count": null,
   "metadata": {
    "collapsed": true
   },
   "outputs": [],
   "source": []
  }
 ],
 "metadata": {
  "kernelspec": {
   "display_name": "Python 2",
   "language": "python",
   "name": "python2"
  },
  "language_info": {
   "codemirror_mode": {
    "name": "ipython",
    "version": 2
   },
   "file_extension": ".py",
   "mimetype": "text/x-python",
   "name": "python",
   "nbconvert_exporter": "python",
   "pygments_lexer": "ipython2",
   "version": "2.7.11"
  }
 },
 "nbformat": 4,
 "nbformat_minor": 0
}
