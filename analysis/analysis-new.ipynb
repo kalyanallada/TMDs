{
 "cells": [
  {
   "cell_type": "code",
   "execution_count": 3,
   "metadata": {
    "collapsed": false
   },
   "outputs": [],
   "source": [
    "import sys,os\n",
    "import pylab as py\n",
    "import matplotlib as mpl\n",
    "from matplotlib import pyplot as plt\n",
    "import numpy as np\n",
    "from scipy.optimize import leastsq,minimize,root\n",
    "from scipy.integrate import quad,fixed_quad, simps, dblquad\n",
    "import pandas as pd\n",
    "from tools import save,load,tex,ProgressBar,com,fill_between\n",
    "from  matplotlib import rc\n",
    "import matplotlib.gridspec as gridspec\n",
    "%matplotlib inline  \n",
    "%config InlineBacend.figure_format = 'retina' \n",
    "rc('font',**{'family':'sans-serif','sans-serif':['Times-Roman']})\n",
    "rc('text',usetex=True)\n",
    "#import lhapdf\n",
    "from numpy import linalg as LA\n",
    "from scipy.interpolate import interp1d\n",
    "import pandas as pd\n",
    "tex = lambda x: r'$\\mathrm{'+x+'}$'"
   ]
  },
  {
   "cell_type": "code",
   "execution_count": 42,
   "metadata": {
    "collapsed": true
   },
   "outputs": [],
   "source": [
    "def get_data(fname):  \n",
    "  F=open(fname)\n",
    "  L=F.readlines()\n",
    "  F.close()\n",
    "  L=[l.strip() for l in L]\n",
    "  L=[l for l in L if l!='']\n",
    "  L=[[float(x) for x in l.split()] for l in L]\n",
    "  L2=[]\n",
    "  for l in L:\n",
    "    chi2=l[1]\n",
    "    w=l[2]\n",
    "    du=l[3]\n",
    "    dd=l[4]\n",
    "    duEX=l[5]\n",
    "    ddEX=l[6]\n",
    "    data=l[7:]\n",
    "    N=len(data)\n",
    "    x =[data[3*i] for i in range(N/3) ]\n",
    "    Hu=[data[3*i+1] for i in range(N/3) ]\n",
    "    Hd=[data[3*i+2] for i in range(N/3) ]\n",
    "    #if Hd[10]==0: continue\n",
    "    L2.append([chi2,w,du,dd,duEX,ddEX,x,Hu,Hd])\n",
    "  return pd.DataFrame(L2,columns=['chi2','w','du','dd','duEX','ddEX','x','Hu','Hd'])\n",
    "\n",
    "\n",
    "#j, ChiSQ[j], Weight[j], deltaU_Cal[j], deltaD_Cal[j], deltaU_EX_Cal[j], deltaD_EX_Cal[j], xB[0,j],Hu[0,j], Hd[0,j], xB[1,j], Hu[1,j], Hd[1,j],...,(from 0 to 299),...,xB[299,j], Hu[299,j], Hd[299,j]"
   ]
  },
  {
   "cell_type": "code",
   "execution_count": 43,
   "metadata": {
    "collapsed": true
   },
   "outputs": [],
   "source": [
    "data1=get_data('scale_cov_1/f1_weight_clas_p_pim_1.dat')\n",
    "data100=get_data('scale_cov_100_new/f100_weight_clas_p_pim_1.dat')"
   ]
  },
  {
   "cell_type": "code",
   "execution_count": 45,
   "metadata": {
    "collapsed": false
   },
   "outputs": [
    {
     "data": {
      "text/plain": [
       "(array([ 29.58836506,   8.70246031,   5.22147619,   5.22147619,\n",
       "          3.48098413,   5.22147619,   1.74049206,   5.22147619,\n",
       "          1.74049206,   3.48098413,   1.74049206,   3.48098413,\n",
       "          1.74049206,   3.48098413,   1.74049206,   3.48098413,\n",
       "          3.48098413,   1.74049206,   3.48098413,   1.74049206,\n",
       "          3.48098413,   1.74049206,   3.48098413,   1.74049206,\n",
       "          3.48098413,   1.74049206,   1.74049206,   3.48098413,\n",
       "          1.74049206,   3.48098413,   3.48098413,   3.48098413,\n",
       "          1.74049206,   3.48098413,   3.48098413,   3.48098413,\n",
       "          5.22147619,   5.22147619,   6.96196825,  15.66442856]),\n",
       " array([ -6.56060000e-08,   5.74543603e-03,   1.14909377e-02,\n",
       "          1.72364393e-02,   2.29819410e-02,   2.87274426e-02,\n",
       "          3.44729442e-02,   4.02184459e-02,   4.59639475e-02,\n",
       "          5.17094492e-02,   5.74549508e-02,   6.32004524e-02,\n",
       "          6.89459541e-02,   7.46914557e-02,   8.04369574e-02,\n",
       "          8.61824590e-02,   9.19279606e-02,   9.76734623e-02,\n",
       "          1.03418964e-01,   1.09164466e-01,   1.14909967e-01,\n",
       "          1.20655469e-01,   1.26400970e-01,   1.32146472e-01,\n",
       "          1.37891974e-01,   1.43637475e-01,   1.49382977e-01,\n",
       "          1.55128479e-01,   1.60873980e-01,   1.66619482e-01,\n",
       "          1.72364984e-01,   1.78110485e-01,   1.83855987e-01,\n",
       "          1.89601489e-01,   1.95346990e-01,   2.01092492e-01,\n",
       "          2.06837993e-01,   2.12583495e-01,   2.18328997e-01,\n",
       "          2.24074498e-01,   2.29820000e-01]),\n",
       " <a list of 1 Patch objects>)"
      ]
     },
     "execution_count": 45,
     "metadata": {},
     "output_type": "execute_result"
    },
    {
     "data": {
      "image/png": "[encoded data removed]",
      "text/plain": [
       "<matplotlib.figure.Figure at 0x7f04dfc8e910>"
      ]
     },
     "metadata": {},
     "output_type": "display_data"
    }
   ],
   "source": [
    "nrows,ncols=1,4\n",
    "py.figure(figsize=(ncols*5,nrows*5))\n",
    "\n",
    "ax=py.subplot(nrows,ncols,1)\n",
    "ax.hist(data['chi2'],range=(0,5),bins=100,histtype='stepfilled');\n",
    "\n",
    "ax=plt.subplot(nrows,ncols,2)\n",
    "ax.hist(data1['du'],histtype='stepfilled',bins=40,normed=1,facecolor='Yellow',alpha=0.2);\n",
    "ax.hist(data100['du'],histtype='stepfilled',bins=40,normed=1,facecolor='b',alpha=0.2);\n",
    "ax.hist(data100['du'],histtype='stepfilled',weights=data['w'],bins=40,normed=1,facecolor='r',alpha=0.2)\n",
    "ax.set_xlim(0.35,0.45)\n",
    "\n",
    "ax=plt.subplot(nrows,ncols,3)\n",
    "ax.hist(data1['dd'],histtype='stepfilled',bins=40,normed=1,facecolor='Yellow',alpha=0.2);\n",
    "ax.hist(data100['dd'],histtype='stepfilled',bins=40,normed=1,facecolor='b',alpha=0.2);\n",
    "ax.hist(data100['dd'],histtype='stepfilled',weights=data['w'],bins=40,normed=1,facecolor='r',alpha=0.2)\n",
    "ax.set_xlim(-0.25,-0.18)\n",
    "\n",
    "ax=plt.subplot(nrows,ncols,3)\n",
    "ax.hist(data1['dd'],histtype='stepfilled',bins=40,normed=1,facecolor='Yellow',alpha=0.2);\n",
    "ax.hist(data100['dd'],histtype='stepfilled',bins=40,normed=1,facecolor='b',alpha=0.2);\n",
    "ax.hist(data100['dd'],histtype='stepfilled',weights=data['w'],bins=40,normed=1,facecolor='r',alpha=0.2)\n",
    "ax.set_xlim(-0.25,-0.18)\n",
    "\n",
    "ax=plt.subplot(nrows,ncols,4)\n",
    "ax.hist(data1['Hu'][10],histtype='stepfilled',bins=40,normed=1,facecolor='Yellow',alpha=0.2);\n",
    "#ax.hist(data100['Hu'][100],histtype='stepfilled',bins=40,normed=1,facecolor='b',alpha=0.2);\n",
    "#ax.hist(data100['Hu'][100],histtype='stepfilled',weights=data['w'],bins=40,normed=1,facecolor='r',alpha=0.2)\n",
    "#ax.set_xlim(-0.25,-0.18)"
   ]
  },
  {
   "cell_type": "code",
   "execution_count": null,
   "metadata": {
    "collapsed": true
   },
   "outputs": [],
   "source": []
  }
 ],
 "metadata": {
  "kernelspec": {
   "display_name": "Python 2",
   "language": "python",
   "name": "python2"
  },
  "language_info": {
   "codemirror_mode": {
    "name": "ipython",
    "version": 2
   },
   "file_extension": ".py",
   "mimetype": "text/x-python",
   "name": "python",
   "nbconvert_exporter": "python",
   "pygments_lexer": "ipython2",
   "version": "2.7.11"
  }
 },
 "nbformat": 4,
 "nbformat_minor": 0
}
