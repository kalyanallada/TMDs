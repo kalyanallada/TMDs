{
 "cells": [
  {
   "cell_type": "code",
   "execution_count": 2,
   "metadata": {
    "collapsed": false
   },
   "outputs": [],
   "source": [
    "import sys,os\n",
    "import pylab as py\n",
    "import matplotlib as mpl\n",
    "from matplotlib import pyplot as plt\n",
    "import numpy as np\n",
    "from scipy.optimize import leastsq,minimize,root\n",
    "from scipy.integrate import quad,fixed_quad, simps, dblquad\n",
    "import pandas as pd\n",
    "from tools import save,load,tex,ProgressBar,com,fill_between\n",
    "from  matplotlib import rc\n",
    "import matplotlib.gridspec as gridspec\n",
    "%matplotlib inline  \n",
    "%config InlineBacend.figure_format = 'retina' \n",
    "rc('font',**{'family':'sans-serif','sans-serif':['Times-Roman']})\n",
    "rc('text',usetex=True)\n",
    "#import lhapdf\n",
    "from numpy import linalg as LA\n",
    "from scipy.interpolate import interp1d\n",
    "import pandas as pd\n",
    "tex = lambda x: r'$\\mathrm{'+x+'}$'"
   ]
  },
  {
   "cell_type": "code",
   "execution_count": 3,
   "metadata": {
    "collapsed": true
   },
   "outputs": [],
   "source": [
    "def get_data(fname):  \n",
    "  F=open(fname)\n",
    "  L=F.readlines()\n",
    "  F.close()\n",
    "  L=[l.strip() for l in L]\n",
    "  L=[l for l in L if l!='']\n",
    "  L=[[float(x) for x in l.split()] for l in L]\n",
    "  L2=[]\n",
    "  for l in L:\n",
    "    chi2=l[1]\n",
    "    w=l[2]\n",
    "    du=l[3]\n",
    "    dd=l[4]\n",
    "    duEX=l[5]\n",
    "    ddEX=l[6]\n",
    "    data=l[7:]\n",
    "    N=len(data)\n",
    "    x =[data[3*i] for i in range(N/3) ]\n",
    "    Hu=[data[3*i+1] for i in range(N/3) ]\n",
    "    Hd=[data[3*i+2] for i in range(N/3) ]\n",
    "    if Hd[10]==0: continue\n",
    "    #if Hd[10]==0: continue\n",
    "    L2.append([chi2,w,du,dd,duEX,ddEX,x,Hu,Hd])\n",
    "  return pd.DataFrame(L2,columns=['chi2','w','du','dd','duEX','ddEX','x','Hu','Hd'])\n",
    "\n",
    "\n",
    "#j, ChiSQ[j], Weight[j], deltaU_Cal[j], deltaD_Cal[j], deltaU_EX_Cal[j], deltaD_EX_Cal[j], xB[0,j],Hu[0,j], Hd[0,j], xB[1,j], Hu[1,j], Hd[1,j],...,(from 0 to 299),...,xB[299,j], Hu[299,j], Hd[299,j]"
   ]
  },
  {
   "cell_type": "code",
   "execution_count": 4,
   "metadata": {
    "collapsed": false
   },
   "outputs": [],
   "source": [
    "data1=get_data('scale_cov_1/f1_weight_clas_p_pim_1.dat')\n",
    "data100=get_data('scale_cov_100_new/f100_weight_clas_p_pim_1.dat')"
   ]
  },
  {
   "cell_type": "code",
   "execution_count": 14,
   "metadata": {
    "collapsed": false
   },
   "outputs": [
    {
     "data": {
      "text/plain": [
       "(0.04, 0.06)"
      ]
     },
     "execution_count": 14,
     "metadata": {},
     "output_type": "execute_result"
    },
    {
     "data": {
      "image/png": "[encoded data removed]",
      "text/plain": [
       "<matplotlib.figure.Figure at 0x7f16195bbf10>"
      ]
     },
     "metadata": {},
     "output_type": "display_data"
    }
   ],
   "source": [
    "nrows,ncols=1,4\n",
    "py.figure(figsize=(ncols*5,nrows*5))\n",
    "\n",
    "ax=py.subplot(nrows,ncols,1)\n",
    "ax.hist(data100['chi2'],range=(0,5),bins=100,histtype='stepfilled');\n",
    "\n",
    "ax=plt.subplot(nrows,ncols,2)\n",
    "ax.hist(data1['du'],histtype='stepfilled',bins=40,normed=1,facecolor='Yellow',alpha=0.2);\n",
    "ax.hist(data100['du'],histtype='stepfilled',bins=40,normed=1,facecolor='b',alpha=0.2);\n",
    "ax.hist(data100['du'],histtype='stepfilled',weights=data100['w'],bins=40,normed=1,facecolor='r',alpha=0.2)\n",
    "ax.set_xlim(0.35,0.45)\n",
    "\n",
    "ax=plt.subplot(nrows,ncols,3)\n",
    "ax.hist(data1['dd'],histtype='stepfilled',bins=40,normed=1,facecolor='Yellow',alpha=0.2);\n",
    "ax.hist(data100['dd'],histtype='stepfilled',bins=40,normed=1,facecolor='b',alpha=0.2);\n",
    "ax.hist(data100['dd'],histtype='stepfilled',weights=data100['w'],bins=40,normed=1,facecolor='r',alpha=0.2)\n",
    "ax.set_xlim(-0.25,-0.18)\n",
    "\n",
    "ax=plt.subplot(nrows,ncols,3)\n",
    "ax.hist(data1['dd'],histtype='stepfilled',bins=40,normed=1,facecolor='Yellow',alpha=0.2);\n",
    "ax.hist(data100['dd'],histtype='stepfilled',bins=40,normed=1,facecolor='b',alpha=0.2);\n",
    "ax.hist(data100['dd'],histtype='stepfilled',weights=data100['w'],bins=40,normed=1,facecolor='r',alpha=0.2)\n",
    "ax.set_xlim(-0.25,-0.18)\n",
    "\n",
    "ax=plt.subplot(nrows,ncols,4)\n",
    "ax.hist([data1['Hu'][i][5] for i in data1.index],histtype='stepfilled',bins=40,normed=1,facecolor='Yellow',alpha=0.2);\n",
    "ax.hist([data100['Hu'][i][5] for i in data100.index],weights=data100['w'],histtype='stepfilled',bins=200,normed=1,facecolor='r',alpha=0.2);\n",
    "ax.hist([data100['Hu'][i][5] for i in data100.index],histtype='stepfilled',bins=200,normed=1,facecolor='b',alpha=0.2);\n",
    "\n",
    "#ax.hist(data100['Hu'][100],histtype='stepfilled',bins=40,normed=1,facecolor='b',alpha=0.2);\n",
    "#ax.hist(data100['Hu'][100],histtype='stepfilled',weights=data['w'],bins=40,normed=1,facecolor='r',alpha=0.2)\n",
    "ax.set_xlim(0.04,0.06)"
   ]
  },
  {
   "cell_type": "code",
   "execution_count": null,
   "metadata": {
    "collapsed": true
   },
   "outputs": [],
   "source": []
  }
 ],
 "metadata": {
  "kernelspec": {
   "display_name": "Python 2",
   "language": "python",
   "name": "python2"
  },
  "language_info": {
   "codemirror_mode": {
    "name": "ipython",
    "version": 2
   },
   "file_extension": ".py",
   "mimetype": "text/x-python",
   "name": "python",
   "nbconvert_exporter": "python",
   "pygments_lexer": "ipython2",
   "version": "2.7.11"
  }
 },
 "nbformat": 4,
 "nbformat_minor": 0
}
