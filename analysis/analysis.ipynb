{
 "cells": [
  {
   "cell_type": "code",
   "execution_count": 6,
   "metadata": {
    "collapsed": false
   },
   "outputs": [],
   "source": [
    "import sys,os\n",
    "import pylab as py\n",
    "import numpy as np\n",
    "from scipy.optimize import leastsq,minimize,root\n",
    "from scipy.integrate import quad,fixed_quad, simps, dblquad\n",
    "import pandas as pd\n",
    "from tools import save,load,tex,ProgressBar,com,fill_between\n",
    "from  matplotlib import rc\n",
    "import matplotlib.gridspec as gridspec\n",
    "%matplotlib inline  \n",
    "%config InlineBacend.figure_format = 'retina' \n",
    "rc('font',**{'family':'sans-serif','sans-serif':['Times-Roman']})\n",
    "rc('text',usetex=True)\n",
    "import lhapdf\n",
    "from numpy import linalg as LA\n",
    "from scipy.interpolate import interp1d\n",
    "import pandas as pd"
   ]
  },
  {
   "cell_type": "code",
   "execution_count": 30,
   "metadata": {
    "collapsed": true
   },
   "outputs": [],
   "source": [
    "def get_data(fname):\n",
    "  F=open('data/'+fname)\n",
    "  L=F.readlines()\n",
    "  F.close()\n",
    "  L=[l.strip() for l in L]\n",
    "  L=[l for l in L if l!='']\n",
    "  L=[[float(x) for x in l.split()] for l in L]\n",
    "  columns=['id','ChiSQ','Weight','full_int_deltaU','full_int_deltaD','trun_int_deltaU','trun_int_deltaD']\n",
    "  DF=pd.DataFrame(L,columns=columns)\n",
    "  return DF"
   ]
  },
  {
   "cell_type": "code",
   "execution_count": 31,
   "metadata": {
    "collapsed": false
   },
   "outputs": [
    {
     "name": "stdout",
     "output_type": "stream",
     "text": [
      "f100K_weight_clas_p_pim_1.dat\n",
      "f100K_weight_clas_p_pip_1.dat\n",
      "f100K_weight_solid_3he_pip_1.dat\n",
      "f100K_weight_solid_p_pim_1.dat\n",
      "f100K_weight_solid_3he_pim_1.dat\n",
      "f100K_weight_solid_p_pip_1.dat\n"
     ]
    }
   ],
   "source": [
    "fnames=[f for f in os.listdir('data/') if '.dat' in f if 'correlation' not in f if 'params' not in f]\n",
    "for f in fnames: print f"
   ]
  },
  {
   "cell_type": "code",
   "execution_count": 32,
   "metadata": {
    "collapsed": false
   },
   "outputs": [],
   "source": [
    "DF=get_data('f100K_weight_clas_p_pim_1.dat')"
   ]
  },
  {
   "cell_type": "code",
   "execution_count": 33,
   "metadata": {
    "collapsed": false
   },
   "outputs": [
    {
     "data": {
      "text/html": [
       "<div>\n",
       "<table border=\"1\" class=\"dataframe\">\n",
       "  <thead>\n",
       "    <tr style=\"text-align: right;\">\n",
       "      <th></th>\n",
       "      <th>id</th>\n",
       "      <th>ChiSQ</th>\n",
       "      <th>Weight</th>\n",
       "      <th>full_int_deltaU</th>\n",
       "      <th>full_int_deltaD</th>\n",
       "      <th>trun_int_deltaU</th>\n",
       "      <th>trun_int_deltaD</th>\n",
       "    </tr>\n",
       "  </thead>\n",
       "  <tbody>\n",
       "    <tr>\n",
       "      <th>0</th>\n",
       "      <td>0</td>\n",
       "      <td>1240</td>\n",
       "      <td>0.009974</td>\n",
       "      <td>0.39497</td>\n",
       "      <td>-0.21892</td>\n",
       "      <td>0.31562</td>\n",
       "      <td>-0.16218</td>\n",
       "    </tr>\n",
       "    <tr>\n",
       "      <th>1</th>\n",
       "      <td>1</td>\n",
       "      <td>1240</td>\n",
       "      <td>0.010081</td>\n",
       "      <td>0.39469</td>\n",
       "      <td>-0.21883</td>\n",
       "      <td>0.31537</td>\n",
       "      <td>-0.16215</td>\n",
       "    </tr>\n",
       "    <tr>\n",
       "      <th>2</th>\n",
       "      <td>2</td>\n",
       "      <td>1240</td>\n",
       "      <td>0.010054</td>\n",
       "      <td>0.39496</td>\n",
       "      <td>-0.21876</td>\n",
       "      <td>0.31561</td>\n",
       "      <td>-0.16206</td>\n",
       "    </tr>\n",
       "    <tr>\n",
       "      <th>3</th>\n",
       "      <td>3</td>\n",
       "      <td>1240</td>\n",
       "      <td>0.009848</td>\n",
       "      <td>0.39517</td>\n",
       "      <td>-0.21887</td>\n",
       "      <td>0.31581</td>\n",
       "      <td>-0.16214</td>\n",
       "    </tr>\n",
       "    <tr>\n",
       "      <th>4</th>\n",
       "      <td>4</td>\n",
       "      <td>1240</td>\n",
       "      <td>0.010122</td>\n",
       "      <td>0.39461</td>\n",
       "      <td>-0.21875</td>\n",
       "      <td>0.31530</td>\n",
       "      <td>-0.16207</td>\n",
       "    </tr>\n",
       "    <tr>\n",
       "      <th>5</th>\n",
       "      <td>5</td>\n",
       "      <td>1240</td>\n",
       "      <td>0.009935</td>\n",
       "      <td>0.39503</td>\n",
       "      <td>-0.21886</td>\n",
       "      <td>0.31567</td>\n",
       "      <td>-0.16212</td>\n",
       "    </tr>\n",
       "    <tr>\n",
       "      <th>6</th>\n",
       "      <td>6</td>\n",
       "      <td>1240</td>\n",
       "      <td>0.010083</td>\n",
       "      <td>0.39474</td>\n",
       "      <td>-0.21873</td>\n",
       "      <td>0.31542</td>\n",
       "      <td>-0.16208</td>\n",
       "    </tr>\n",
       "    <tr>\n",
       "      <th>7</th>\n",
       "      <td>7</td>\n",
       "      <td>1240</td>\n",
       "      <td>0.009999</td>\n",
       "      <td>0.39497</td>\n",
       "      <td>-0.21888</td>\n",
       "      <td>0.31563</td>\n",
       "      <td>-0.16214</td>\n",
       "    </tr>\n",
       "    <tr>\n",
       "      <th>8</th>\n",
       "      <td>8</td>\n",
       "      <td>1240</td>\n",
       "      <td>0.009942</td>\n",
       "      <td>0.39506</td>\n",
       "      <td>-0.21891</td>\n",
       "      <td>0.31569</td>\n",
       "      <td>-0.16215</td>\n",
       "    </tr>\n",
       "    <tr>\n",
       "      <th>9</th>\n",
       "      <td>9</td>\n",
       "      <td>1240</td>\n",
       "      <td>0.010041</td>\n",
       "      <td>0.39493</td>\n",
       "      <td>-0.21872</td>\n",
       "      <td>0.31558</td>\n",
       "      <td>-0.16205</td>\n",
       "    </tr>\n",
       "  </tbody>\n",
       "</table>\n",
       "</div>"
      ],
      "text/plain": [
       "   id  ChiSQ    Weight  full_int_deltaU  full_int_deltaD  trun_int_deltaU  \\\n",
       "0   0   1240  0.009974          0.39497         -0.21892          0.31562   \n",
       "1   1   1240  0.010081          0.39469         -0.21883          0.31537   \n",
       "2   2   1240  0.010054          0.39496         -0.21876          0.31561   \n",
       "3   3   1240  0.009848          0.39517         -0.21887          0.31581   \n",
       "4   4   1240  0.010122          0.39461         -0.21875          0.31530   \n",
       "5   5   1240  0.009935          0.39503         -0.21886          0.31567   \n",
       "6   6   1240  0.010083          0.39474         -0.21873          0.31542   \n",
       "7   7   1240  0.009999          0.39497         -0.21888          0.31563   \n",
       "8   8   1240  0.009942          0.39506         -0.21891          0.31569   \n",
       "9   9   1240  0.010041          0.39493         -0.21872          0.31558   \n",
       "\n",
       "   trun_int_deltaD  \n",
       "0         -0.16218  \n",
       "1         -0.16215  \n",
       "2         -0.16206  \n",
       "3         -0.16214  \n",
       "4         -0.16207  \n",
       "5         -0.16212  \n",
       "6         -0.16208  \n",
       "7         -0.16214  \n",
       "8         -0.16215  \n",
       "9         -0.16205  "
      ]
     },
     "execution_count": 33,
     "metadata": {},
     "output_type": "execute_result"
    }
   ],
   "source": [
    "DF[:10]"
   ]
  },
  {
   "cell_type": "code",
   "execution_count": 70,
   "metadata": {
    "collapsed": false
   },
   "outputs": [
    {
     "name": "stdout",
     "output_type": "stream",
     "text": [
      "sum w 1.0000019\n",
      "E=0.3949376000\n",
      "std=0.0014296237\n",
      "std=0.0001431197\n"
     ]
    }
   ],
   "source": [
    "E=np.mean(DF.full_int_deltaU)\n",
    "print 'sum w',np.sum(DF.Weight)\n",
    "print 'E=%0.10f'%E\n",
    "print 'std=%0.10f'%np.sum((DF.full_int_deltaU-E)**2)**0.5\n",
    "print 'std=%0.10f'%np.sum(DF.Weight*(DF.full_int_deltaU-E)**2)**0.5\n"
   ]
  },
  {
   "cell_type": "markdown",
   "metadata": {},
   "source": [
    "# tensor charge"
   ]
  },
  {
   "cell_type": "code",
   "execution_count": 71,
   "metadata": {
    "collapsed": false
   },
   "outputs": [
    {
     "data": {
      "image/png": "[encoded data removed]",
      "text/plain": [
       "<matplotlib.figure.Figure at 0x7ff420c14810>"
      ]
     },
     "metadata": {},
     "output_type": "display_data"
    }
   ],
   "source": [
    "ax=py.subplot(111)\n",
    "dum=ax.hist(DF.full_int_deltaU,histtype='stepfilled',bins=10,normed=1,facecolor='y')\n",
    "dum=ax.hist(DF.full_int_deltaU,histtype='stepfilled',bins=10,weights=DF.Weight.values,normed=1,facecolor='none',hatch='...')\n"
   ]
  },
  {
   "cell_type": "markdown",
   "metadata": {},
   "source": [
    "# weight distribution"
   ]
  },
  {
   "cell_type": "code",
   "execution_count": 66,
   "metadata": {
    "collapsed": false
   },
   "outputs": [
    {
     "data": {
      "image/png": "[encoded data removed]",
      "text/plain": [
       "<matplotlib.figure.Figure at 0x7ff420fb52d0>"
      ]
     },
     "metadata": {},
     "output_type": "display_data"
    }
   ],
   "source": [
    "ax=py.subplot(111)\n",
    "dum=ax.hist(DF.Weight.values,histtype='stepfilled',bins=30,normed=1,facecolor='y')"
   ]
  },
  {
   "cell_type": "markdown",
   "metadata": {},
   "source": [
    "# What to expect?  Simple example"
   ]
  },
  {
   "cell_type": "code",
   "execution_count": 79,
   "metadata": {
    "collapsed": false
   },
   "outputs": [
    {
     "data": {
      "image/png": "[encoded data removed]",
      "text/plain": [
       "<matplotlib.figure.Figure at 0x7ff421543090>"
      ]
     },
     "metadata": {},
     "output_type": "display_data"
    }
   ],
   "source": [
    "from scipy.stats import norm\n",
    "X=np.random.randn(10000)*5\n",
    "W=norm().pdf(X)\n",
    "ax=py.subplot(111)\n",
    "dum=ax.hist(X,histtype='step',bins=100,normed=1)\n",
    "dum=ax.hist(X,histtype='step',bins=100,weights=W,normed=1)"
   ]
  },
  {
   "cell_type": "code",
   "execution_count": null,
   "metadata": {
    "collapsed": true
   },
   "outputs": [],
   "source": []
  }
 ],
 "metadata": {
  "kernelspec": {
   "display_name": "Python 2",
   "language": "python",
   "name": "python2"
  },
  "language_info": {
   "codemirror_mode": {
    "name": "ipython",
    "version": 2
   },
   "file_extension": ".py",
   "mimetype": "text/x-python",
   "name": "python",
   "nbconvert_exporter": "python",
   "pygments_lexer": "ipython2",
   "version": "2.7.10"
  }
 },
 "nbformat": 4,
 "nbformat_minor": 0
}
