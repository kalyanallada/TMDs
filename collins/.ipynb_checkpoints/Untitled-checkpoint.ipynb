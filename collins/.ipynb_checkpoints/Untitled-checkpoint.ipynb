{
 "cells": [
  {
   "cell_type": "code",
   "execution_count": 37,
   "metadata": {
    "collapsed": true
   },
   "outputs": [],
   "source": [
    "import ROOT as R\n",
    "import numpy as np\n",
    "import tempfile"
   ]
  },
  {
   "cell_type": "code",
   "execution_count": 2,
   "metadata": {
    "collapsed": false
   },
   "outputs": [],
   "source": [
    "wspacename = 'higgsCPV'\n",
    "wspace = R.RooWorkspace(wspacename)"
   ]
  },
  {
   "cell_type": "code",
   "execution_count": 43,
   "metadata": {
    "collapsed": false
   },
   "outputs": [],
   "source": [
    "# observable (theta)\n",
    "wspace.factory('theta[0,%f,%f]' % (-np.pi, np.pi))\n",
    "theta = wspace.var('theta')\n",
    "theta.SetTitle('#theta')\n",
    "\n",
    "\n",
    "# signal amplitude\n",
    "wspace.factory('alpha[%f,0,1]' % 0.7)\n",
    "alpha = wspace.var('alpha')\n",
    "theta.SetTitle('#alpha')\n",
    "\n",
    "# parameter of interest\n",
    "wspace.factory('delta[0,%f,%f]' % (-1, 1))\n",
    "delta = wspace.var('delta')\n",
    "delta.SetTitle('#Delta')\n",
    "\n",
    "\n",
    "\n",
    "cmd = 'GenericPdf::model(\"alpha*cos(theta-%f*delta)\",{alpha,theta,delta})'%np.pi\n",
    "wspace.factory(cmd)\n",
    "model = wspace.pdf('model')\n",
    "wspace.defineSet('obs', 'theta,alpha')\n",
    "obs = wspace.set('obs')\n",
    "\n",
    "data = model.generate(obs,100)\n",
    "tmp=tempfile.TemporaryFile()\n",
    "data.write(tmp.name)\n",
    "F=open(tmp.name)\n",
    "L=F.readlines()\n",
    "F.close()"
   ]
  },
  {
   "cell_type": "code",
   "execution_count": 44,
   "metadata": {
    "collapsed": false
   },
   "outputs": [
    {
     "name": "stdout",
     "output_type": "stream",
     "text": [
      "['-0.328584 0.939417 \\n', '0.905145 0.508016 \\n', '-0.557697 0.327969 \\n', '1.11438 0.680972 \\n', '0.189808 0.427273 \\n', '0.617189 0.619599 \\n', '0.0545016 0.988631 \\n', '-0.799983 0.466921 \\n', '-0.23854 0.568954 \\n', '-1.48687 0.142782 \\n', '0.854543 0.578317 \\n', '0.19211 0.684608 \\n', '0.702792 0.999274 \\n', '-0.0205107 0.527851 \\n', '-0.82413 0.834631 \\n', '-0.190821 0.875991 \\n', '0.741318 0.818671 \\n', '-0.2404 0.657616 \\n', '0.380022 0.33115 \\n', '-0.101255 0.771848 \\n', '0.110255 0.0524009 \\n', '0.0849849 0.652429 \\n', '-0.743184 0.570997 \\n', '-0.306182 0.557133 \\n', '0.914089 0.337657 \\n', '0.766215 0.728986 \\n', '-0.958421 0.164595 \\n', '1.49519 0.513203 \\n', '-0.229214 0.741548 \\n', '0.142826 0.80352 \\n', '-0.416027 0.724039 \\n', '0.500843 0.0984672 \\n', '-0.990921 0.59096 \\n', '0.373574 0.541105 \\n', '1.24554 0.498723 \\n', '0.501532 0.5978 \\n', '-0.139735 0.540196 \\n', '0.619028 0.411042 \\n', '-0.0291834 0.798196 \\n', '0.0925992 0.899933 \\n', '-0.321085 0.543288 \\n', '-0.557903 0.746263 \\n', '-0.567012 0.70174 \\n', '-1.09599 0.0347342 \\n', '0.185412 0.480258 \\n', '0.439516 0.652792 \\n', '0.276112 0.858948 \\n', '-0.325761 0.605683 \\n', '-1.07418 0.378422 \\n', '-0.698578 0.384008 \\n', '-0.237216 0.790312 \\n', '-0.676864 0.782007 \\n', '0.495192 0.495744 \\n', '-0.801078 0.569864 \\n', '-0.471986 0.9842 \\n', '1.03938 0.590375 \\n', '0.346356 0.354731 \\n', '0.292515 0.321509 \\n', '0.899129 0.222247 \\n', '-0.0795598 0.40556 \\n', '0.0654466 0.729319 \\n', '0.830652 0.970565 \\n', '0.0193595 0.48239 \\n', '-0.523865 0.39905 \\n', '0.285813 0.399641 \\n', '0.538503 0.911474 \\n', '-1.49937 0.884509 \\n', '1.24351 0.642406 \\n', '0.380301 0.987485 \\n', '0.453614 0.898514 \\n', '-0.176356 0.927757 \\n', '0.481709 0.55311 \\n', '0.616991 0.712336 \\n', '-0.0554767 0.441014 \\n', '-0.929287 0.355651 \\n', '-1.06723 0.131897 \\n', '-0.281798 0.545229 \\n', '0.0672058 0.39602 \\n', '0.378338 0.671984 \\n', '-0.443542 0.762086 \\n', '1.0351 0.915647 \\n', '1.06344 0.2751 \\n', '-0.437949 0.882518 \\n', '-0.447623 0.215934 \\n', '-0.244678 0.815604 \\n', '0.0649149 0.746143 \\n', '0.509642 0.976302 \\n', '-0.730217 0.883014 \\n', '-0.339625 0.747037 \\n', '0.603208 0.106473 \\n', '-0.348471 0.541731 \\n', '-1.07713 0.310504 \\n', '-0.5391 0.682402 \\n', '-1.00533 0.875791 \\n', '-1.06113 0.539764 \\n', '0.771777 0.832562 \\n', '1.112 0.665869 \\n', '1.04628 0.191575 \\n', '0.998436 0.0908441 \\n', '-0.808415 0.672163 \\n']\n"
     ]
    }
   ],
   "source": [
    "print L"
   ]
  },
  {
   "cell_type": "code",
   "execution_count": 33,
   "metadata": {
    "collapsed": false
   },
   "outputs": [],
   "source": [
    "r1."
   ]
  },
  {
   "cell_type": "code",
   "execution_count": null,
   "metadata": {
    "collapsed": true
   },
   "outputs": [],
   "source": []
  }
 ],
 "metadata": {
  "kernelspec": {
   "display_name": "Python 2",
   "language": "python",
   "name": "python2"
  },
  "language_info": {
   "codemirror_mode": {
    "name": "ipython",
    "version": 2
   },
   "file_extension": ".py",
   "mimetype": "text/x-python",
   "name": "python",
   "nbconvert_exporter": "python",
   "pygments_lexer": "ipython2",
   "version": "2.7.9"
  }
 },
 "nbformat": 4,
 "nbformat_minor": 0
}
